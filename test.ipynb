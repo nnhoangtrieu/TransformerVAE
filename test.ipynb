{
 "cells": [
  {
   "cell_type": "code",
   "execution_count": 11,
   "metadata": {},
   "outputs": [],
   "source": [
    "import torch\n",
    "import pickle"
   ]
  },
  {
   "cell_type": "code",
   "execution_count": 14,
   "metadata": {},
   "outputs": [
    {
     "data": {
      "text/plain": [
       "['CC', '[N+](C)', '(C)C', 'c1ccccc1', 'Br']"
      ]
     },
     "execution_count": 14,
     "metadata": {},
     "output_type": "execute_result"
    }
   ],
   "source": [
    "import codecs\n",
    "from SmilesPE.tokenizer import *\n",
    "\n",
    "spe_vob= codecs.open('SPE_ChEMBL.txt')\n",
    "spe = SPE_Tokenizer(spe_vob)\n",
    "\n",
    "smi = 'CC[N+](C)(C)Cc1ccccc1Br'\n",
    "a = spe.tokenize(smi).split(' ')\n",
    "a\n"
   ]
  },
  {
   "cell_type": "code",
   "execution_count": 13,
   "metadata": {},
   "outputs": [],
   "source": [
    "with open('data/chembl24_canon_train.pickle', 'rb') as file :\n",
    "    smi_list = pickle.load(file) \n",
    "    smi_list = [smi for smi in smi_list if len(smi) <= 40]"
   ]
  },
  {
   "cell_type": "code",
   "execution_count": 15,
   "metadata": {},
   "outputs": [],
   "source": [
    "token_list = [spe.tokenize(smi).split(' ') for smi in smi_list]"
   ]
  },
  {
   "cell_type": "code",
   "execution_count": 20,
   "metadata": {},
   "outputs": [],
   "source": [
    "smi_dic = {\"<START>\": 0, \"<END>\": 1, \"<PAD>\":2} \n",
    "\n",
    "for l in token_list : \n",
    "    for c in l : \n",
    "        if c not in smi_dic :\n",
    "            smi_dic[c] = len(smi_dic)"
   ]
  },
  {
   "cell_type": "code",
   "execution_count": 22,
   "metadata": {},
   "outputs": [],
   "source": [
    "final = [] \n",
    "\n",
    "for l in token_list : \n",
    "    sub = [[0] + smi_dic[c] for c in l [] \n",
    "    final.append(sub)"
   ]
  },
  {
   "cell_type": "code",
   "execution_count": 25,
   "metadata": {},
   "outputs": [
    {
     "data": {
      "text/plain": [
       "411544"
      ]
     },
     "execution_count": 25,
     "metadata": {},
     "output_type": "execute_result"
    }
   ],
   "source": [
    "final"
   ]
  },
  {
   "cell_type": "code",
   "execution_count": null,
   "metadata": {},
   "outputs": [],
   "source": []
  }
 ],
 "metadata": {
  "kernelspec": {
   "display_name": "Python 3 (ipykernel)",
   "language": "python",
   "name": "python3"
  },
  "language_info": {
   "codemirror_mode": {
    "name": "ipython",
    "version": 3
   },
   "file_extension": ".py",
   "mimetype": "text/x-python",
   "name": "python",
   "nbconvert_exporter": "python",
   "pygments_lexer": "ipython3",
   "version": "3.10.4"
  }
 },
 "nbformat": 4,
 "nbformat_minor": 4
}
