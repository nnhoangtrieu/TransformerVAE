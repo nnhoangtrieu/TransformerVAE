{
 "cells": [
  {
   "cell_type": "code",
   "execution_count": 3,
   "id": "301f0ada-1c58-4a7a-92be-bc864f1e91a1",
   "metadata": {},
   "outputs": [],
   "source": [
    "import numpy as np \n",
    "def frange_cycle_sigmoid(start, stop, n_epoch, n_cycle=4, ratio=0.5):\n",
    "    L = np.ones(n_epoch)  * stop\n",
    "    period = n_epoch/n_cycle\n",
    "    step = (stop-start)/(period*ratio) # step is in [0,1]\n",
    "    \n",
    "    # transform into [-6, 6] for plots: v*12.-6.\n",
    "\n",
    "    for c in range(n_cycle):\n",
    "\n",
    "        v , i = start , 0\n",
    "        while v <= stop:\n",
    "            L[int(i+c*period)] = 1.0/(1.0+ np.exp(- (v*12.-6.)))\n",
    "            v += step\n",
    "            i += 1\n",
    "    return L "
   ]
  },
  {
   "cell_type": "code",
   "execution_count": 22,
   "id": "c50eb2bb-eadc-4c15-a8e4-2eb85976d069",
   "metadata": {},
   "outputs": [
    {
     "data": {
      "text/plain": [
       "array([0.00248152, 0.047548  , 0.50045   , 0.95261477, 0.99752738,\n",
       "       1.        , 1.        , 1.        , 0.00248152, 0.047548  ,\n",
       "       0.50045   , 0.95261477, 0.99752738, 1.        , 1.        ,\n",
       "       1.        , 0.00248152, 0.047548  , 0.50045   , 0.95261477,\n",
       "       0.99752738, 1.        , 1.        , 1.        , 0.00248152,\n",
       "       0.047548  , 0.50045   , 0.95261477, 0.99752738, 1.        ,\n",
       "       1.        , 1.        ])"
      ]
     },
     "execution_count": 22,
     "metadata": {},
     "output_type": "execute_result"
    }
   ],
   "source": [
    "cyc = frange_cycle_sigmoid(0.0003, 0.1, 32, 4, 0.5)\n",
    "cyc"
   ]
  },
  {
   "cell_type": "code",
   "execution_count": 28,
   "id": "93a98511-4f2f-4dc5-8bae-bf2d2e920a4e",
   "metadata": {},
   "outputs": [],
   "source": [
    "def frange_cycle_linear(start, stop, n_epoch, n_cycle=4, ratio=0.5):\n",
    "    L = np.ones(n_epoch) * stop\n",
    "    period = n_epoch/n_cycle\n",
    "    step = (stop-start)/(period*ratio) # linear schedule\n",
    "\n",
    "    for c in range(n_cycle):\n",
    "\n",
    "        v , i = start , 0\n",
    "        while v <= stop and (int(i+c*period) < n_epoch):\n",
    "            L[int(i+c*period)] = v\n",
    "            v += step\n",
    "            i += 1\n",
    "    return L  "
   ]
  },
  {
   "cell_type": "code",
   "execution_count": 62,
   "id": "c6099b6e-37bd-44f7-a4ce-db9f8020a54b",
   "metadata": {},
   "outputs": [
    {
     "data": {
      "text/plain": [
       "array([0.0003    , 0.00087857, 0.00145714, 0.00203571, 0.00261429,\n",
       "       0.003     , 0.0003    , 0.00087857, 0.00145714, 0.00203571,\n",
       "       0.00261429, 0.003     , 0.003     , 0.0003    , 0.00087857,\n",
       "       0.00145714, 0.00203571, 0.00261429, 0.003     , 0.003     ,\n",
       "       0.0003    , 0.00087857, 0.00145714, 0.00203571, 0.00261429,\n",
       "       0.003     , 0.0003    , 0.00087857, 0.00145714, 0.00203571,\n",
       "       0.00261429, 0.003     , 0.003     , 0.0003    , 0.00087857,\n",
       "       0.00145714, 0.00203571, 0.00261429, 0.003     , 0.003     ])"
      ]
     },
     "execution_count": 62,
     "metadata": {},
     "output_type": "execute_result"
    }
   ],
   "source": [
    "linear = frange_cycle_linear(0.0003, 0.003, 40, 7, 0.7)\n",
    "linear"
   ]
  },
  {
   "cell_type": "code",
   "execution_count": 31,
   "id": "5325416f-d5f5-478b-b852-0dcb98134ce0",
   "metadata": {},
   "outputs": [],
   "source": [
    "class KLAnnealer:\n",
    "    def __init__(self, n_epoch):\n",
    "        self.i_start = 0\n",
    "        self.w_start = 0.0003\n",
    "        self.w_max = 0.01\n",
    "        self.n_epoch = n_epoch\n",
    "\n",
    "        self.inc = (self.w_max - self.w_start) / (self.n_epoch - self.i_start)\n",
    "\n",
    "    def __call__(self, i):\n",
    "        k = (i - self.i_start) if i >= self.i_start else 0\n",
    "        return self.w_start + k * self.inc"
   ]
  },
  {
   "cell_type": "code",
   "execution_count": 34,
   "id": "00c0029e-9d47-49f7-979f-d6929c7346d5",
   "metadata": {},
   "outputs": [
    {
     "name": "stdout",
     "output_type": "stream",
     "text": [
      "0.0003\n",
      "0.0006031249999999999\n",
      "0.0009062499999999999\n",
      "0.001209375\n",
      "0.0015125\n",
      "0.001815625\n",
      "0.00211875\n",
      "0.002421875\n",
      "0.002725\n",
      "0.003028125\n",
      "0.00333125\n",
      "0.003634375\n",
      "0.0039375\n",
      "0.004240625\n",
      "0.00454375\n",
      "0.0048468750000000005\n",
      "0.00515\n",
      "0.005453125\n",
      "0.00575625\n",
      "0.0060593750000000005\n",
      "0.0063625\n",
      "0.006665625\n",
      "0.00696875\n",
      "0.0072718750000000006\n",
      "0.007575\n",
      "0.007878125\n",
      "0.00818125\n",
      "0.008484375\n",
      "0.0087875\n",
      "0.009090625\n",
      "0.009393750000000001\n",
      "0.009696875\n"
     ]
    }
   ],
   "source": [
    "annealer = KLAnnealer(32)\n",
    "for i in range(32) : \n",
    "    print(annealer(i))"
   ]
  },
  {
   "cell_type": "code",
   "execution_count": null,
   "id": "f5091bdb-6508-40f8-b822-5d7e50db59a2",
   "metadata": {},
   "outputs": [],
   "source": []
  }
 ],
 "metadata": {
  "kernelspec": {
   "display_name": "Python 3 (ipykernel)",
   "language": "python",
   "name": "python3"
  },
  "language_info": {
   "codemirror_mode": {
    "name": "ipython",
    "version": 3
   },
   "file_extension": ".py",
   "mimetype": "text/x-python",
   "name": "python",
   "nbconvert_exporter": "python",
   "pygments_lexer": "ipython3",
   "version": "3.10.4"
  }
 },
 "nbformat": 4,
 "nbformat_minor": 5
}
