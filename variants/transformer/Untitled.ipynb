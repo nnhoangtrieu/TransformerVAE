{
 "cells": [
  {
   "cell_type": "code",
   "execution_count": 1,
   "id": "f1f628e4-2079-4e78-8e21-7e755cead775",
   "metadata": {},
   "outputs": [],
   "source": [
    "import numpy as np "
   ]
  },
  {
   "cell_type": "code",
   "execution_count": 3,
   "id": "e992b84e-88b3-430d-96df-719ac1ca2417",
   "metadata": {},
   "outputs": [
    {
     "name": "stdout",
     "output_type": "stream",
     "text": [
      "0.0003\n",
      "0.0003\n",
      "0.0003\n",
      "0.0003\n",
      "0.0003\n",
      "0.0003\n",
      "0.0003000000000000001\n",
      "0.0003645235821926793\n",
      "0.0004429248065819433\n",
      "0.0005381884571241647\n",
      "0.0006539412809521722\n",
      "0.0007945900609211835\n",
      "0.0009654893846056302\n",
      "0.0011731454968181656\n",
      "0.0014254639964445602\n",
      "0.0017320508075688787\n",
      "0.0021045778830491\n",
      "0.0025572275631084804\n",
      "0.0037976896359237337\n",
      "0.005038151708738987\n",
      "0.00627861378155424\n",
      "0.007519075854369494\n",
      "0.008759537927184747\n",
      "0.01\n",
      "0.01\n",
      "0.01\n",
      "0.01\n",
      "0.01\n",
      "0.01\n",
      "0.01\n"
     ]
    }
   ],
   "source": [
    "def gen_beta(start, end, T1, T2, T3):\n",
    "    for i in range(T1):\n",
    "        yield start\n",
    "    log_s = np.log(start)\n",
    "    log_e = np.log(end)\n",
    "    T = T2 - T1\n",
    "    AT = T3 - T1\n",
    "    for i in range(T):\n",
    "        cur_beta = np.exp(log_s + (log_e - log_s) / AT * i)\n",
    "        yield cur_beta\n",
    "\n",
    "    T = T3 - T2\n",
    "    delta_beta = (end - cur_beta) / T\n",
    "    for i in range(T):\n",
    "        cur_beta += delta_beta\n",
    "        yield cur_beta\n",
    "\n",
    "    while True:\n",
    "        yield end\n",
    "\n",
    "\n",
    "beta_f = gen_beta(3e-4, 1e-2, 6, 18, 24)\n",
    "for i in range(30):\n",
    "    print(next(beta_f))"
   ]
  },
  {
   "cell_type": "code",
   "execution_count": null,
   "id": "d29533d7-80d9-44f8-846a-b1f3e7b774a5",
   "metadata": {},
   "outputs": [],
   "source": [
    "class KLAnnealer:\n",
    "    def __init__(self, n_epoch):\n",
    "        self.i_start = arg.kl_start\n",
    "        self.w_start = arg.kl_w_start\n",
    "        self.w_max = arg.kl_w_end\n",
    "        self.n_epoch = n_epoch\n",
    "\n",
    "        self.inc = (self.w_max - self.w_start) / (self.n_epoch - self.i_start)\n",
    "\n",
    "    def __call__(self, i):\n",
    "        k = (i - self.i_start) if i >= self.i_start else 0\n",
    "        return self.w_start + k * self.inc"
   ]
  }
 ],
 "metadata": {
  "kernelspec": {
   "display_name": "Python 3 (ipykernel)",
   "language": "python",
   "name": "python3"
  },
  "language_info": {
   "codemirror_mode": {
    "name": "ipython",
    "version": 3
   },
   "file_extension": ".py",
   "mimetype": "text/x-python",
   "name": "python",
   "nbconvert_exporter": "python",
   "pygments_lexer": "ipython3",
   "version": "3.10.4"
  }
 },
 "nbformat": 4,
 "nbformat_minor": 5
}
